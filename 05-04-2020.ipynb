{
 "cells": [
  {
   "cell_type": "markdown",
   "metadata": {},
   "source": [
    "# Python Class\n",
    "\n"
   ]
  },
  {
   "cell_type": "code",
   "execution_count": 1,
   "metadata": {},
   "outputs": [
    {
     "name": "stdout",
     "output_type": "stream",
     "text": [
      "hello\n"
     ]
    }
   ],
   "source": [
    "print(\"hello\")"
   ]
  },
  {
   "cell_type": "markdown",
   "metadata": {},
   "source": [
    "```\n",
    "python supports only 4 data types :\n",
    "    1.str\n",
    "    2.int\n",
    "    3.float\n",
    "    4.bool\n",
    "```    "
   ]
  },
  {
   "cell_type": "code",
   "execution_count": 14,
   "metadata": {},
   "outputs": [
    {
     "name": "stdout",
     "output_type": "stream",
     "text": [
      "10\n",
      "10.987654\n",
      "<class 'float'>\n",
      "10\n"
     ]
    },
    {
     "data": {
      "text/plain": [
       "'10.987654'"
      ]
     },
     "execution_count": 14,
     "metadata": {},
     "output_type": "execute_result"
    }
   ],
   "source": [
    "## Data types and type conversions in python\n",
    "a = 10.987654\n",
    "print(int(a))\n",
    "print(float(a))\n",
    "print(type(a))\n",
    "print(int(a))\n",
    "str(a)"
   ]
  },
  {
   "cell_type": "markdown",
   "metadata": {},
   "source": [
    "```\n",
    "Operators in python :\n",
    "    \n",
    "    1.Airthematic Operators : +,-,%,/,//,*,**\n",
    "    \n",
    "    2.Relation Operators : >,<,==,!=,>=,<=\n",
    "        \n",
    "    3.Logical Operators : and , or , not\n",
    "        \n",
    "    4.Bitwise Operators : &,|,~,^,>>\n",
    "        \n",
    "    5.Assignment Operators : =,+=,-=,*=,/=,//=,%=,**=\n",
    "        \n",
    "    6.Identity Operators : is, is not\n",
    "    \n",
    "    7.Membership Operators : in , not in\n",
    "```"
   ]
  },
  {
   "cell_type": "markdown",
   "metadata": {},
   "source": [
    "```\n",
    "Conditional Statements :\n",
    "    1. if\n",
    "    2. if else\n",
    "    3. elif\n",
    "    4. nested if\n",
    "```"
   ]
  },
  {
   "cell_type": "code",
   "execution_count": 16,
   "metadata": {},
   "outputs": [
    {
     "name": "stdout",
     "output_type": "stream",
     "text": [
      "10\n",
      "10  is even number\n"
     ]
    }
   ],
   "source": [
    "## Example for if condition\n",
    "i = int(input())\n",
    "if i%2 == 0:\n",
    "    print(i,\" is even number\")"
   ]
  },
  {
   "cell_type": "code",
   "execution_count": 18,
   "metadata": {},
   "outputs": [
    {
     "name": "stdout",
     "output_type": "stream",
     "text": [
      "503\n",
      "503  is odd number\n"
     ]
    }
   ],
   "source": [
    "## Example for if else\n",
    "i = int(input())\n",
    "if(i%2!=0):\n",
    "    print(i,\" is odd number\")\n",
    "else:\n",
    "    print(i,\" is even number\")"
   ]
  },
  {
   "cell_type": "code",
   "execution_count": 23,
   "metadata": {},
   "outputs": [
    {
     "name": "stdout",
     "output_type": "stream",
     "text": [
      "25\n",
      "he is eligible for voting from last 7 years\n"
     ]
    }
   ],
   "source": [
    "## Example for elif\n",
    "age = int(input())\n",
    "if age>18:\n",
    "    print(\"he is eligible for voting from last\",age-18,\"years\")\n",
    "elif age<18:\n",
    "    print(\"he has to wait for \",18-age)\n",
    "else:\n",
    "    print(\"exact age to vote\")"
   ]
  },
  {
   "cell_type": "code",
   "execution_count": 26,
   "metadata": {},
   "outputs": [
    {
     "name": "stdout",
     "output_type": "stream",
     "text": [
      "adm\n",
      "invalid username\n"
     ]
    }
   ],
   "source": [
    "## Example for nested if\n",
    "uname = \"admin\"\n",
    "password = \"admin123\"\n",
    "u = input()\n",
    "if(u==\"admin\"):\n",
    "    p = input()\n",
    "    if(p==\"admin123\"):\n",
    "        print(\"Successfully logged in\")\n",
    "    else:\n",
    "        print(\"wrong password\")\n",
    "else:\n",
    "    print(\"invalid username\")"
   ]
  },
  {
   "cell_type": "markdown",
   "metadata": {},
   "source": [
    "```\n",
    "Loops in Python:\n",
    "    1.for Loop\n",
    "    2.while\n",
    "    3.do while\n",
    "    4.until\n",
    "    5.unless\n",
    "```    \n"
   ]
  },
  {
   "cell_type": "code",
   "execution_count": 29,
   "metadata": {},
   "outputs": [
    {
     "name": "stdout",
     "output_type": "stream",
     "text": [
      "5\n",
      "0 1 2 3 4 5 "
     ]
    }
   ],
   "source": [
    "## Example for loops in python(for loop)\n",
    "n = int(input())\n",
    "for i in range(n+1):\n",
    "    print(i,end=\" \")"
   ]
  },
  {
   "cell_type": "code",
   "execution_count": 39,
   "metadata": {},
   "outputs": [
    {
     "name": "stdout",
     "output_type": "stream",
     "text": [
      "2\n"
     ]
    }
   ],
   "source": [
    "## prime number using python\n",
    "n = int(input())\n",
    "for i in range(2,n):## 2 is starting value and n is ending value\n",
    "    if (n%i==0):\n",
    "        print(n,\" is not a prime\")\n",
    "    else:\n",
    "        print(n,\" is prime\")"
   ]
  },
  {
   "cell_type": "code",
   "execution_count": 7,
   "metadata": {},
   "outputs": [
    {
     "name": "stdout",
     "output_type": "stream",
     "text": [
      "1\n",
      "1\n",
      "2\n",
      "3\n",
      "4\n",
      "5\n",
      "6\n",
      "7\n",
      "8\n",
      "9\n"
     ]
    }
   ],
   "source": [
    "## example for while loop\n",
    "i = int(input())\n",
    "while i<10:\n",
    "    print(i)\n",
    "    i += 1"
   ]
  },
  {
   "cell_type": "code",
   "execution_count": 6,
   "metadata": {},
   "outputs": [
    {
     "name": "stdout",
     "output_type": "stream",
     "text": [
      "1\n",
      "1\n",
      "2\n",
      "3\n"
     ]
    }
   ],
   "source": [
    "## example for while loop\n",
    "i = int(input())\n",
    "while i<10:\n",
    "    print(i)\n",
    "    if(i == 3):\n",
    "        break\n",
    "    i += 1"
   ]
  },
  {
   "cell_type": "code",
   "execution_count": null,
   "metadata": {},
   "outputs": [],
   "source": [
    "i = int(input())\n",
    "while True:\n",
    "    print(i)\n",
    "    i += 1\n",
    "    \n"
   ]
  }
 ],
 "metadata": {
  "language_info": {
   "codemirror_mode": {
    "name": "ipython",
    "version": 3
   },
   "file_extension": ".py",
   "mimetype": "text/x-python",
   "name": "python",
   "nbconvert_exporter": "python",
   "pygments_lexer": "ipython3",
   "version": "3.7.3"
  }
 },
 "nbformat": 4,
 "nbformat_minor": 2
}
